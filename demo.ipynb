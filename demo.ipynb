{
 "cells": [
  {
   "cell_type": "code",
   "execution_count": 10,
   "metadata": {},
   "outputs": [],
   "source": [
    "import ils.cfsdp as cfs\n",
    "import ils.utils as ut\n"
   ]
  },
  {
   "cell_type": "code",
   "execution_count": null,
   "metadata": {},
   "outputs": [],
   "source": []
  },
  {
   "cell_type": "code",
   "execution_count": 12,
   "metadata": {},
   "outputs": [
    {
     "ename": "AttributeError",
     "evalue": "module 'ils.utils' has no attribute 'synthetic_data'",
     "output_type": "error",
     "traceback": [
      "\u001b[0;31m---------------------------------------------------------------------------\u001b[0m",
      "\u001b[0;31mAttributeError\u001b[0m                            Traceback (most recent call last)",
      "\u001b[1;32m/Users/theahsu/ILS/demo.ipynb Cell 2'\u001b[0m in \u001b[0;36m<module>\u001b[0;34m\u001b[0m\n\u001b[0;32m----> <a href='vscode-notebook-cell:/Users/theahsu/ILS/demo.ipynb#ch0000002?line=0'>1</a>\u001b[0m X \u001b[39m=\u001b[39m ut\u001b[39m.\u001b[39;49msynthetic_data()\n\u001b[1;32m      <a href='vscode-notebook-cell:/Users/theahsu/ILS/demo.ipynb#ch0000002?line=1'>2</a>\u001b[0m X[\u001b[39m0\u001b[39m]\n",
      "\u001b[0;31mAttributeError\u001b[0m: module 'ils.utils' has no attribute 'synthetic_data'"
     ]
    }
   ],
   "source": [
    "X = ut.synthetic_data()\n",
    "X[0]"
   ]
  },
  {
   "cell_type": "code",
   "execution_count": null,
   "metadata": {},
   "outputs": [],
   "source": [
    "def test_cfsdp():\n",
    "    return 0"
   ]
  }
 ],
 "metadata": {
  "interpreter": {
   "hash": "c262aad3bab4c3d91737656cc70ab0f6a6fa65640f56f4e7e918edbb168dbe65"
  },
  "kernelspec": {
   "display_name": "Python 3.8.12 ('ILS')",
   "language": "python",
   "name": "python3"
  },
  "language_info": {
   "codemirror_mode": {
    "name": "ipython",
    "version": 3
   },
   "file_extension": ".py",
   "mimetype": "text/x-python",
   "name": "python",
   "nbconvert_exporter": "python",
   "pygments_lexer": "ipython3",
   "version": "3.8.12"
  },
  "orig_nbformat": 4
 },
 "nbformat": 4,
 "nbformat_minor": 2
}
